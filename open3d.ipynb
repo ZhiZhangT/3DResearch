{
 "cells": [
  {
   "cell_type": "code",
   "execution_count": 1,
   "metadata": {},
   "outputs": [
    {
     "name": "stdout",
     "output_type": "stream",
     "text": [
      "zsh:1: /Library/Frameworks/Python.framework/Versions/3.10/bin/pip: bad interpreter: /Users/zztee/c5g8_esc/virtenv/bin/python3: no such file or directory\n"
     ]
    },
    {
     "name": "stdout",
     "output_type": "stream",
     "text": [
      "Requirement already satisfied: open3d in /Library/Frameworks/Python.framework/Versions/3.9/lib/python3.9/site-packages (0.18.0)\n",
      "Requirement already satisfied: numpy>=1.18.0 in /Library/Frameworks/Python.framework/Versions/3.9/lib/python3.9/site-packages (from open3d) (1.22.4)\n",
      "Requirement already satisfied: dash>=2.6.0 in /Library/Frameworks/Python.framework/Versions/3.9/lib/python3.9/site-packages (from open3d) (2.16.1)\n",
      "Requirement already satisfied: werkzeug>=2.2.3 in /Library/Frameworks/Python.framework/Versions/3.9/lib/python3.9/site-packages (from open3d) (3.0.1)\n",
      "Requirement already satisfied: nbformat>=5.7.0 in /Library/Frameworks/Python.framework/Versions/3.9/lib/python3.9/site-packages (from open3d) (5.7.0)\n",
      "Requirement already satisfied: configargparse in /Library/Frameworks/Python.framework/Versions/3.9/lib/python3.9/site-packages (from open3d) (1.7)\n",
      "Requirement already satisfied: addict in /Library/Frameworks/Python.framework/Versions/3.9/lib/python3.9/site-packages (from open3d) (2.4.0)\n",
      "Requirement already satisfied: pillow>=9.3.0 in /Library/Frameworks/Python.framework/Versions/3.9/lib/python3.9/site-packages (from open3d) (10.2.0)\n",
      "Requirement already satisfied: matplotlib>=3 in /Library/Frameworks/Python.framework/Versions/3.9/lib/python3.9/site-packages (from open3d) (3.8.3)\n",
      "Requirement already satisfied: pandas>=1.0 in /Library/Frameworks/Python.framework/Versions/3.9/lib/python3.9/site-packages (from open3d) (1.4.2)\n",
      "Requirement already satisfied: pyyaml>=5.4.1 in /Library/Frameworks/Python.framework/Versions/3.9/lib/python3.9/site-packages (from open3d) (6.0.1)\n",
      "Requirement already satisfied: scikit-learn>=0.21 in /Library/Frameworks/Python.framework/Versions/3.9/lib/python3.9/site-packages (from open3d) (1.4.0)\n",
      "Requirement already satisfied: tqdm in /Library/Frameworks/Python.framework/Versions/3.9/lib/python3.9/site-packages (from open3d) (4.66.2)\n",
      "Requirement already satisfied: pyquaternion in /Library/Frameworks/Python.framework/Versions/3.9/lib/python3.9/site-packages (from open3d) (0.9.9)\n",
      "Requirement already satisfied: Flask<3.1,>=1.0.4 in /Library/Frameworks/Python.framework/Versions/3.9/lib/python3.9/site-packages (from dash>=2.6.0->open3d) (3.0.2)\n",
      "Requirement already satisfied: plotly>=5.0.0 in /Library/Frameworks/Python.framework/Versions/3.9/lib/python3.9/site-packages (from dash>=2.6.0->open3d) (5.20.0)\n",
      "Requirement already satisfied: dash-html-components==2.0.0 in /Library/Frameworks/Python.framework/Versions/3.9/lib/python3.9/site-packages (from dash>=2.6.0->open3d) (2.0.0)\n",
      "Requirement already satisfied: dash-core-components==2.0.0 in /Library/Frameworks/Python.framework/Versions/3.9/lib/python3.9/site-packages (from dash>=2.6.0->open3d) (2.0.0)\n",
      "Requirement already satisfied: dash-table==5.0.0 in /Library/Frameworks/Python.framework/Versions/3.9/lib/python3.9/site-packages (from dash>=2.6.0->open3d) (5.0.0)\n",
      "Requirement already satisfied: importlib-metadata in /Library/Frameworks/Python.framework/Versions/3.9/lib/python3.9/site-packages (from dash>=2.6.0->open3d) (7.0.1)\n",
      "Requirement already satisfied: typing-extensions>=4.1.1 in /Library/Frameworks/Python.framework/Versions/3.9/lib/python3.9/site-packages (from dash>=2.6.0->open3d) (4.10.0)\n",
      "Requirement already satisfied: requests in /Library/Frameworks/Python.framework/Versions/3.9/lib/python3.9/site-packages (from dash>=2.6.0->open3d) (2.27.1)\n",
      "Requirement already satisfied: retrying in /Library/Frameworks/Python.framework/Versions/3.9/lib/python3.9/site-packages (from dash>=2.6.0->open3d) (1.3.4)\n",
      "Requirement already satisfied: nest-asyncio in /Users/zztee/Library/Python/3.9/lib/python/site-packages (from dash>=2.6.0->open3d) (1.5.1)\n",
      "Requirement already satisfied: setuptools in /Library/Frameworks/Python.framework/Versions/3.9/lib/python3.9/site-packages (from dash>=2.6.0->open3d) (57.4.0)\n",
      "Requirement already satisfied: contourpy>=1.0.1 in /Library/Frameworks/Python.framework/Versions/3.9/lib/python3.9/site-packages (from matplotlib>=3->open3d) (1.2.0)\n",
      "Requirement already satisfied: cycler>=0.10 in /Library/Frameworks/Python.framework/Versions/3.9/lib/python3.9/site-packages (from matplotlib>=3->open3d) (0.12.1)\n",
      "Requirement already satisfied: fonttools>=4.22.0 in /Library/Frameworks/Python.framework/Versions/3.9/lib/python3.9/site-packages (from matplotlib>=3->open3d) (4.49.0)\n",
      "Requirement already satisfied: kiwisolver>=1.3.1 in /Library/Frameworks/Python.framework/Versions/3.9/lib/python3.9/site-packages (from matplotlib>=3->open3d) (1.4.5)\n",
      "Requirement already satisfied: packaging>=20.0 in /Users/zztee/Library/Python/3.9/lib/python/site-packages (from matplotlib>=3->open3d) (21.0)\n",
      "Requirement already satisfied: pyparsing>=2.3.1 in /Users/zztee/Library/Python/3.9/lib/python/site-packages (from matplotlib>=3->open3d) (2.4.7)\n",
      "Requirement already satisfied: python-dateutil>=2.7 in /Users/zztee/Library/Python/3.9/lib/python/site-packages (from matplotlib>=3->open3d) (2.8.2)\n",
      "Requirement already satisfied: importlib-resources>=3.2.0 in /Library/Frameworks/Python.framework/Versions/3.9/lib/python3.9/site-packages (from matplotlib>=3->open3d) (6.1.1)\n",
      "Requirement already satisfied: fastjsonschema in /Library/Frameworks/Python.framework/Versions/3.9/lib/python3.9/site-packages (from nbformat>=5.7.0->open3d) (2.19.1)\n",
      "Requirement already satisfied: jsonschema>=2.6 in /Users/zztee/Library/Python/3.9/lib/python/site-packages (from nbformat>=5.7.0->open3d) (3.2.0)\n",
      "Requirement already satisfied: jupyter-core in /Users/zztee/Library/Python/3.9/lib/python/site-packages (from nbformat>=5.7.0->open3d) (4.8.1)\n",
      "Requirement already satisfied: traitlets>=5.1 in /Users/zztee/Library/Python/3.9/lib/python/site-packages (from nbformat>=5.7.0->open3d) (5.1.0)\n",
      "Requirement already satisfied: pytz>=2020.1 in /Library/Frameworks/Python.framework/Versions/3.9/lib/python3.9/site-packages (from pandas>=1.0->open3d) (2022.1)\n",
      "Requirement already satisfied: scipy>=1.6.0 in /Library/Frameworks/Python.framework/Versions/3.9/lib/python3.9/site-packages (from scikit-learn>=0.21->open3d) (1.12.0)\n",
      "Requirement already satisfied: joblib>=1.2.0 in /Library/Frameworks/Python.framework/Versions/3.9/lib/python3.9/site-packages (from scikit-learn>=0.21->open3d) (1.3.2)\n",
      "Requirement already satisfied: threadpoolctl>=2.0.0 in /Library/Frameworks/Python.framework/Versions/3.9/lib/python3.9/site-packages (from scikit-learn>=0.21->open3d) (3.2.0)\n",
      "Requirement already satisfied: MarkupSafe>=2.1.1 in /Library/Frameworks/Python.framework/Versions/3.9/lib/python3.9/site-packages (from werkzeug>=2.2.3->open3d) (2.1.5)\n",
      "Requirement already satisfied: Jinja2>=3.1.2 in /Library/Frameworks/Python.framework/Versions/3.9/lib/python3.9/site-packages (from Flask<3.1,>=1.0.4->dash>=2.6.0->open3d) (3.1.3)\n",
      "Requirement already satisfied: itsdangerous>=2.1.2 in /Library/Frameworks/Python.framework/Versions/3.9/lib/python3.9/site-packages (from Flask<3.1,>=1.0.4->dash>=2.6.0->open3d) (2.1.2)\n",
      "Requirement already satisfied: click>=8.1.3 in /Library/Frameworks/Python.framework/Versions/3.9/lib/python3.9/site-packages (from Flask<3.1,>=1.0.4->dash>=2.6.0->open3d) (8.1.7)\n",
      "Requirement already satisfied: blinker>=1.6.2 in /Library/Frameworks/Python.framework/Versions/3.9/lib/python3.9/site-packages (from Flask<3.1,>=1.0.4->dash>=2.6.0->open3d) (1.7.0)\n",
      "Requirement already satisfied: zipp>=0.5 in /Library/Frameworks/Python.framework/Versions/3.9/lib/python3.9/site-packages (from importlib-metadata->dash>=2.6.0->open3d) (3.17.0)\n",
      "Requirement already satisfied: attrs>=17.4.0 in /Users/zztee/Library/Python/3.9/lib/python/site-packages (from jsonschema>=2.6->nbformat>=5.7.0->open3d) (21.2.0)\n",
      "Requirement already satisfied: pyrsistent>=0.14.0 in /Users/zztee/Library/Python/3.9/lib/python/site-packages (from jsonschema>=2.6->nbformat>=5.7.0->open3d) (0.18.0)\n",
      "Requirement already satisfied: six>=1.11.0 in /Users/zztee/Library/Python/3.9/lib/python/site-packages (from jsonschema>=2.6->nbformat>=5.7.0->open3d) (1.16.0)\n",
      "Requirement already satisfied: tenacity>=6.2.0 in /Library/Frameworks/Python.framework/Versions/3.9/lib/python3.9/site-packages (from plotly>=5.0.0->dash>=2.6.0->open3d) (8.2.3)\n",
      "^C\n",
      "\u001b[31mERROR: Operation cancelled by user\u001b[0m\u001b[31m\n",
      "\u001b[0m"
     ]
    }
   ],
   "source": [
    "!pip install --upgrade open3d"
   ]
  },
  {
   "cell_type": "markdown",
   "metadata": {},
   "source": [
    "## Set up with example point clouds"
   ]
  },
  {
   "cell_type": "code",
   "execution_count": 2,
   "metadata": {},
   "outputs": [
    {
     "name": "stdout",
     "output_type": "stream",
     "text": [
      "Load a ply point cloud, print it, and render it\n"
     ]
    }
   ],
   "source": [
    "import open3d as o3d\n",
    "import numpy as np\n",
    "\n",
    "\n",
    "print(\"Load a ply point cloud, print it, and render it\")\n",
    "sample_ply_data = o3d.data.PLYPointCloud()\n",
    "pcd = o3d.io.read_point_cloud(sample_ply_data.path)"
   ]
  },
  {
   "cell_type": "code",
   "execution_count": 3,
   "metadata": {},
   "outputs": [
    {
     "name": "stdout",
     "output_type": "stream",
     "text": [
      "\u001b[1;33m[Open3D WARNING] GLFW Error: Cocoa: Failed to find service port for display\u001b[0;m\n"
     ]
    }
   ],
   "source": [
    "o3d.visualization.draw_geometries([pcd],\n",
    "                                  zoom=0.3412,\n",
    "                                  front=[0.4257, -0.2125, -0.8795],\n",
    "                                  lookat=[2.6172, 2.0475, 1.532],\n",
    "                                  up=[-0.0694, -0.9768, 0.2024])"
   ]
  },
  {
   "cell_type": "markdown",
   "metadata": {},
   "source": [
    "## get_view_status() example"
   ]
  },
  {
   "cell_type": "code",
   "execution_count": 3,
   "metadata": {},
   "outputs": [
    {
     "name": "stdout",
     "output_type": "stream",
     "text": [
      "\u001b[1;33m[Open3D WARNING] GLFW Error: Cocoa: Failed to find service port for display\u001b[0;m\n",
      "{\n",
      "\t\"class_name\" : \"ViewTrajectory\",\n",
      "\t\"interval\" : 29,\n",
      "\t\"is_loop\" : false,\n",
      "\t\"trajectory\" : \n",
      "\t[\n",
      "\t\t{\n",
      "\t\t\t\"boundingbox_max\" : [ 3.9660897254943848, 2.427476167678833, 2.55859375 ],\n",
      "\t\t\t\"boundingbox_min\" : [ 0.55859375, 0.83203125, 0.56663715839385986 ],\n",
      "\t\t\t\"field_of_view\" : 60.0,\n",
      "\t\t\t\"front\" : [ 0.0, 0.0, 1.0 ],\n",
      "\t\t\t\"lookat\" : [ 2.2623417377471924, 1.6297537088394165, 1.5626154541969299 ],\n",
      "\t\t\t\"up\" : [ 0.0, 1.0, 0.0 ],\n",
      "\t\t\t\"zoom\" : 0.69999999999999996\n",
      "\t\t}\n",
      "\t],\n",
      "\t\"version_major\" : 1,\n",
      "\t\"version_minor\" : 0\n",
      "}\n"
     ]
    }
   ],
   "source": [
    "def custom_draw_geometry_with_custom_fov(pcd, fov_step):\n",
    "    vis = o3d.visualization.Visualizer()\n",
    "    vis.create_window()\n",
    "    vis.add_geometry(pcd)\n",
    "    vis.add_geometry(pcd, )\n",
    "    ctr = vis.get_view_control()\n",
    "    render_option = vis.get_render_option()\n",
    "    view_status = vis.get_view_status()\n",
    "    print(view_status)\n",
    "    #vis.run()\n",
    "    # vis.destroy_window()\n",
    "\n",
    "custom_draw_geometry_with_custom_fov(pcd, 90.0)\n"
   ]
  },
  {
   "cell_type": "markdown",
   "metadata": {},
   "source": [
    "## 1 Visualizer for 2 scenes"
   ]
  },
  {
   "cell_type": "code",
   "execution_count": null,
   "metadata": {},
   "outputs": [
    {
     "name": "stdout",
     "output_type": "stream",
     "text": [
      "FEngine (64 bits) created at 0x3139c0000 (threading is enabled)\n",
      "FEngine resolved backend: OpenGL\n"
     ]
    },
    {
     "name": "stderr",
     "output_type": "stream",
     "text": [
      "[error] GLFW error: Cocoa: Failed to find service port for display\n"
     ]
    }
   ],
   "source": [
    "#!/usr/bin/env python\n",
    "import open3d as o3d\n",
    "import open3d.visualization as o3dvis\n",
    "import numpy as np\n",
    "\n",
    "def make_box():\n",
    "    box = o3d.geometry.TriangleMesh.create_box(1, 2, 4)\n",
    "    box.compute_vertex_normals()\n",
    "    return box\n",
    "\n",
    "def main():\n",
    "    o3dvis.gui.Application.instance.initialize()\n",
    "\n",
    "    mat = o3d.visualization.rendering.MaterialRecord()\n",
    "    mat.base_color = (1.0, 0.0, 0.0, 1.0)\n",
    "    mat.shader = \"defaultLit\"\n",
    "\n",
    "    w = o3dvis.gui.Application.instance.create_window(\"Two scenes\", 1025, 512)\n",
    "    scene1 = o3dvis.gui.SceneWidget()\n",
    "    scene1.scene = o3d.visualization.rendering.Open3DScene(w.renderer)\n",
    "    scene1.scene.add_geometry(\"cube1\", make_box(), mat)\n",
    "    scene1.setup_camera(60, scene1.scene.bounding_box, (0, 0, 0))\n",
    "    scene2 = o3dvis.gui.SceneWidget()\n",
    "    scene2.scene = o3d.visualization.rendering.Open3DScene(w.renderer)\n",
    "    mat.base_color = (0.0, 0.0, 1.0, 1.0)\n",
    "    scene2.scene.add_geometry(\"cube1\", make_box(), mat)\n",
    "    scene2.setup_camera(60, scene2.scene.bounding_box, (0, 0, 0))\n",
    "\n",
    "    w.add_child(scene1)\n",
    "    w.add_child(scene2)\n",
    "\n",
    "    def on_layout(theme):\n",
    "        r = w.content_rect\n",
    "        scene1.frame = o3dvis.gui.Rect(r.x, r.y, r.width / 2, r.height)\n",
    "        scene2.frame = o3dvis.gui.Rect(r.x + r.width / 2 + 1, r.y, r.width / 2, r.height)\n",
    "\n",
    "    w.set_on_layout(on_layout)\n",
    "\n",
    "    o3dvis.gui.Application.instance.run()\n",
    "\n",
    "if __name__ == \"__main__\":\n",
    "    main()"
   ]
  },
  {
   "cell_type": "markdown",
   "metadata": {},
   "source": [
    "## Sample KeyCallback code"
   ]
  },
  {
   "cell_type": "code",
   "execution_count": null,
   "metadata": {},
   "outputs": [],
   "source": [
    "import matplotlib.pyplot as plt\n",
    "\n",
    "def custom_draw_geometry_with_key_callback(pcd, render_option_path):\n",
    "\n",
    "    def change_background_to_black(vis):\n",
    "        opt = vis.get_render_option()\n",
    "        opt.background_color = np.asarray([0, 0, 0])\n",
    "        return False\n",
    "\n",
    "    def capture_depth(vis):\n",
    "        depth = vis.capture_depth_float_buffer()\n",
    "        plt.imshow(np.asarray(depth))\n",
    "        plt.show()\n",
    "        return False\n",
    "\n",
    "    def capture_image(vis):\n",
    "        image = vis.capture_screen_float_buffer()\n",
    "        plt.imshow(np.asarray(image))\n",
    "        plt.show()\n",
    "        return False\n",
    "\n",
    "    key_to_callback = {}\n",
    "    key_to_callback[ord(\"K\")] = change_background_to_black\n",
    "    key_to_callback[ord(\",\")] = capture_depth\n",
    "    key_to_callback[ord(\".\")] = capture_image\n",
    "    o3d.visualization.draw_geometries_with_key_callbacks([pcd], key_to_callback)\n",
    "\n",
    "custom_draw_geometry_with_key_callback(pcd, 90.0)"
   ]
  },
  {
   "cell_type": "markdown",
   "metadata": {},
   "source": [
    "## Test get_view_status and set_view_status with sample KeyCallback code\n",
    "\n",
    "The two functions work as intended, but the view_status is not being stored after the key callback and hence set_view_status is unable to fetch it."
   ]
  },
  {
   "cell_type": "code",
   "execution_count": null,
   "metadata": {},
   "outputs": [
    {
     "name": "stdout",
     "output_type": "stream",
     "text": [
      "\u001b[1;33m[Open3D WARNING] GLFW Error: Cocoa: Failed to find service port for display\u001b[0;m\n",
      "\u001b[1;33m[Open3D WARNING] GLFW Error: Cocoa: Failed to find service port for display\u001b[0;m\n",
      "{\n",
      "\t\"class_name\" : \"ViewTrajectory\",\n",
      "\t\"interval\" : 29,\n",
      "\t\"is_loop\" : false,\n",
      "\t\"trajectory\" : \n",
      "\t[\n",
      "\t\t{\n",
      "\t\t\t\"boundingbox_max\" : [ 3.9660897254943848, 2.427476167678833, 2.55859375 ],\n",
      "\t\t\t\"boundingbox_min\" : [ 0.55859375, 0.83203125, 0.56663715839385986 ],\n",
      "\t\t\t\"field_of_view\" : 60.0,\n",
      "\t\t\t\"front\" : [ 0.9645485629935604, -0.14937367162736939, -0.21756280898080091 ],\n",
      "\t\t\t\"lookat\" : [ 2.2623417377471924, 1.6297537088394165, 1.5626154541969299 ],\n",
      "\t\t\t\"up\" : [ -0.012958896607662048, -0.85021071304087159, 0.52628301362408103 ],\n",
      "\t\t\t\"zoom\" : 0.69999999999999996\n",
      "\t\t}\n",
      "\t],\n",
      "\t\"version_major\" : 1,\n",
      "\t\"version_minor\" : 0\n",
      "}\n"
     ]
    },
    {
     "ename": "",
     "evalue": "",
     "output_type": "error",
     "traceback": [
      "\u001b[1;31mThe Kernel crashed while executing code in the current cell or a previous cell. \n",
      "\u001b[1;31mPlease review the code in the cell(s) to identify a possible cause of the failure. \n",
      "\u001b[1;31mClick <a href='https://aka.ms/vscodeJupyterKernelCrash'>here</a> for more info. \n",
      "\u001b[1;31mView Jupyter <a href='command:jupyter.viewOutput'>log</a> for further details."
     ]
    }
   ],
   "source": [
    "import matplotlib.pyplot as plt\n",
    "\n",
    "view_status = \"\"\"\n",
    "{\n",
    "\t\"class_name\" : \"ViewTrajectory\",\n",
    "\t\"interval\" : 29,\n",
    "\t\"is_loop\" : false,\n",
    "\t\"trajectory\" : \n",
    "\t[\n",
    "\t\t{\n",
    "\t\t\t\"boundingbox_max\" : [ 3.9660897254943848, 2.427476167678833, 2.55859375 ],\n",
    "\t\t\t\"boundingbox_min\" : [ 0.55859375, 0.83203125, 0.56663715839385986 ],\n",
    "\t\t\t\"field_of_view\" : 60.0,\n",
    "\t\t\t\"front\" : [ -0.7185678540910222, -0.6883821310216357, -0.098945847599255246 ],\n",
    "\t\t\t\"lookat\" : [ 2.2623417377471924, 1.6297537088394165, 1.5626154541969299 ],\n",
    "\t\t\t\"up\" : [ 0.69349804397490744, -0.71992552529374187, -0.02770741838402023 ],\n",
    "\t\t\t\"zoom\" : 0.69999999999999996\n",
    "\t\t}\n",
    "\t],\n",
    "\t\"version_major\" : 1,\n",
    "\t\"version_minor\" : 0\n",
    "}\"\"\"\n",
    "\n",
    "def custom_draw_geometry_with_key_callback(pcd, render_option_path):\n",
    "\n",
    "    def change_background_to_black(vis):\n",
    "        opt = vis.get_render_option()\n",
    "        opt.background_color = np.asarray([0, 0, 0])\n",
    "        return False\n",
    "\n",
    "    def capture_depth(vis):\n",
    "        depth = vis.capture_depth_float_buffer()\n",
    "        plt.imshow(np.asarray(depth))\n",
    "        plt.show()\n",
    "        return False\n",
    "\n",
    "    def capture_image(vis):\n",
    "        image = vis.capture_screen_float_buffer()\n",
    "        plt.imshow(np.asarray(image))\n",
    "        plt.show()\n",
    "        return False\n",
    "    \n",
    "    def getViewStatus(vis):\n",
    "        view_status = vis.get_view_status()\n",
    "        print(view_status)\n",
    "        return False\n",
    "    \n",
    "    def setViewStatus(vis):\n",
    "        vis.set_view_status(str(view_status))\n",
    "        print(view_status)\n",
    "        return False\n",
    "\n",
    "    key_to_callback = {}\n",
    "    key_to_callback[ord(\"K\")] = change_background_to_black\n",
    "    key_to_callback[ord(\",\")] = capture_depth\n",
    "    key_to_callback[ord(\".\")] = capture_image\n",
    "    key_to_callback[ord(\"G\")] = getViewStatus\n",
    "    key_to_callback[ord(\"S\")] = setViewStatus\n",
    "    o3d.visualization.draw_geometries_with_key_callbacks([pcd], key_to_callback)\n",
    "\n",
    "custom_draw_geometry_with_key_callback(pcd, 90.0)"
   ]
  },
  {
   "cell_type": "code",
   "execution_count": null,
   "metadata": {},
   "outputs": [
    {
     "name": "stdout",
     "output_type": "stream",
     "text": [
      "\u001b[1;33m[Open3D WARNING] GLFW Error: Cocoa: Failed to find service port for display\u001b[0;m\n",
      "\u001b[1;33m[Open3D WARNING] GLFW Error: Cocoa: Failed to find service port for display\u001b[0;m\n",
      "{\n",
      "\t\"class_name\" : \"ViewTrajectory\",\n",
      "\t\"interval\" : 29,\n",
      "\t\"is_loop\" : false,\n",
      "\t\"trajectory\" : \n",
      "\t[\n",
      "\t\t{\n",
      "\t\t\t\"boundingbox_max\" : [ 3.9660897254943848, 2.427476167678833, 2.55859375 ],\n",
      "\t\t\t\"boundingbox_min\" : [ 0.55859375, 0.83203125, 0.56663715839385986 ],\n",
      "\t\t\t\"field_of_view\" : 60.0,\n",
      "\t\t\t\"front\" : [ 0.35091639209428854, -0.29019000750875551, -0.89030750041858908 ],\n",
      "\t\t\t\"lookat\" : [ 2.2623417377471924, 1.6297537088394165, 1.5626154541969299 ],\n",
      "\t\t\t\"up\" : [ 0.15230226567370314, -0.92042274178452921, 0.36003610412916481 ],\n",
      "\t\t\t\"zoom\" : 0.69999999999999996\n",
      "\t\t}\n",
      "\t],\n",
      "\t\"version_major\" : 1,\n",
      "\t\"version_minor\" : 0\n",
      "}\n",
      "{\n",
      "\t\"class_name\" : \"ViewTrajectory\",\n",
      "\t\"interval\" : 29,\n",
      "\t\"is_loop\" : false,\n",
      "\t\"trajectory\" : \n",
      "\t[\n",
      "\t\t{\n",
      "\t\t\t\"boundingbox_max\" : [ 3.9660897254943848, 2.427476167678833, 2.55859375 ],\n",
      "\t\t\t\"boundingbox_min\" : [ 0.55859375, 0.83203125, 0.56663715839385986 ],\n",
      "\t\t\t\"field_of_view\" : 60.0,\n",
      "\t\t\t\"front\" : [ 0.32144708303262126, -0.13160065648911096, -0.93773825773584296 ],\n",
      "\t\t\t\"lookat\" : [ 2.2623417377471924, 1.6297537088394165, 1.5626154541969299 ],\n",
      "\t\t\t\"up\" : [ 0.20911683817840959, -0.95598036723773661, 0.20584383752317489 ],\n",
      "\t\t\t\"zoom\" : 0.69999999999999996\n",
      "\t\t}\n",
      "\t],\n",
      "\t\"version_major\" : 1,\n",
      "\t\"version_minor\" : 0\n",
      "}\n",
      "{\n",
      "\t\"class_name\" : \"ViewTrajectory\",\n",
      "\t\"interval\" : 29,\n",
      "\t\"is_loop\" : false,\n",
      "\t\"trajectory\" : \n",
      "\t[\n",
      "\t\t{\n",
      "\t\t\t\"boundingbox_max\" : [ 3.9660897254943848, 2.427476167678833, 2.55859375 ],\n",
      "\t\t\t\"boundingbox_min\" : [ 0.55859375, 0.83203125, 0.56663715839385986 ],\n",
      "\t\t\t\"field_of_view\" : 60.0,\n",
      "\t\t\t\"front\" : [ 0.32144708303262126, -0.13160065648911096, -0.93773825773584296 ],\n",
      "\t\t\t\"lookat\" : [ 2.2623417377471924, 1.6297537088394165, 1.5626154541969299 ],\n",
      "\t\t\t\"up\" : [ 0.20911683817840959, -0.95598036723773661, 0.20584383752317489 ],\n",
      "\t\t\t\"zoom\" : 0.69999999999999996\n",
      "\t\t}\n",
      "\t],\n",
      "\t\"version_major\" : 1,\n",
      "\t\"version_minor\" : 0\n",
      "}\n"
     ]
    },
    {
     "ename": "",
     "evalue": "",
     "output_type": "error",
     "traceback": [
      "\u001b[1;31mThe Kernel crashed while executing code in the current cell or a previous cell. \n",
      "\u001b[1;31mPlease review the code in the cell(s) to identify a possible cause of the failure. \n",
      "\u001b[1;31mClick <a href='https://aka.ms/vscodeJupyterKernelCrash'>here</a> for more info. \n",
      "\u001b[1;31mView Jupyter <a href='command:jupyter.viewOutput'>log</a> for further details."
     ]
    }
   ],
   "source": [
    "view_status = \"\"\n",
    "\n",
    "def getViewStatus(vis):\n",
    "    view_status = vis.get_view_status()\n",
    "    print(view_status)\n",
    "    return False\n",
    "\n",
    "def setViewStatus(vis):\n",
    "    vis.set_view_status(str(view_status))\n",
    "    print(view_status)\n",
    "    return False\n",
    "\n",
    "vis = o3d.visualization.VisualizerWithKeyCallback()\n",
    "vis.create_window()\n",
    "vis.register_key_callback(ord(\"G\"), getViewStatus)\n",
    "vis.register_key_callback(ord(\"S\"), setViewStatus)\n",
    "vis.add_geometry(pcd)\n",
    "vis.run()"
   ]
  },
  {
   "cell_type": "markdown",
   "metadata": {},
   "source": [
    "## 1 VisualizerWithKeyCallback with 2 scenes"
   ]
  },
  {
   "cell_type": "code",
   "execution_count": null,
   "metadata": {},
   "outputs": [
    {
     "ename": "AttributeError",
     "evalue": "'open3d.cpu.pybind.visualization.VisualizerWithKeyC' object has no attribute 'gui'",
     "output_type": "error",
     "traceback": [
      "\u001b[0;31m---------------------------------------------------------------------------\u001b[0m",
      "\u001b[0;31mAttributeError\u001b[0m                            Traceback (most recent call last)",
      "\u001b[0;32m/var/folders/__/sxrs_frj41bdj4fb9smfcr9m0000gn/T/ipykernel_385/4267748154.py\u001b[0m in \u001b[0;36m<module>\u001b[0;34m\u001b[0m\n\u001b[1;32m     41\u001b[0m \u001b[0;34m\u001b[0m\u001b[0m\n\u001b[1;32m     42\u001b[0m \u001b[0;32mif\u001b[0m \u001b[0m__name__\u001b[0m \u001b[0;34m==\u001b[0m \u001b[0;34m\"__main__\"\u001b[0m\u001b[0;34m:\u001b[0m\u001b[0;34m\u001b[0m\u001b[0;34m\u001b[0m\u001b[0m\n\u001b[0;32m---> 43\u001b[0;31m     \u001b[0mmain\u001b[0m\u001b[0;34m(\u001b[0m\u001b[0;34m)\u001b[0m\u001b[0;34m\u001b[0m\u001b[0;34m\u001b[0m\u001b[0m\n\u001b[0m",
      "\u001b[0;32m/var/folders/__/sxrs_frj41bdj4fb9smfcr9m0000gn/T/ipykernel_385/4267748154.py\u001b[0m in \u001b[0;36mmain\u001b[0;34m()\u001b[0m\n\u001b[1;32m     11\u001b[0m \u001b[0;32mdef\u001b[0m \u001b[0mmain\u001b[0m\u001b[0;34m(\u001b[0m\u001b[0;34m)\u001b[0m\u001b[0;34m:\u001b[0m\u001b[0;34m\u001b[0m\u001b[0;34m\u001b[0m\u001b[0m\n\u001b[1;32m     12\u001b[0m     \u001b[0mo3dvis\u001b[0m \u001b[0;34m=\u001b[0m \u001b[0mo3d\u001b[0m\u001b[0;34m.\u001b[0m\u001b[0mvisualization\u001b[0m\u001b[0;34m.\u001b[0m\u001b[0mVisualizerWithKeyCallback\u001b[0m\u001b[0;34m(\u001b[0m\u001b[0;34m)\u001b[0m\u001b[0;34m\u001b[0m\u001b[0;34m\u001b[0m\u001b[0m\n\u001b[0;32m---> 13\u001b[0;31m     \u001b[0mo3dvis\u001b[0m\u001b[0;34m.\u001b[0m\u001b[0mgui\u001b[0m\u001b[0;34m.\u001b[0m\u001b[0mApplication\u001b[0m\u001b[0;34m.\u001b[0m\u001b[0minstance\u001b[0m\u001b[0;34m.\u001b[0m\u001b[0minitialize\u001b[0m\u001b[0;34m(\u001b[0m\u001b[0;34m)\u001b[0m\u001b[0;34m\u001b[0m\u001b[0;34m\u001b[0m\u001b[0m\n\u001b[0m\u001b[1;32m     14\u001b[0m \u001b[0;34m\u001b[0m\u001b[0m\n\u001b[1;32m     15\u001b[0m     \u001b[0mmat\u001b[0m \u001b[0;34m=\u001b[0m \u001b[0mo3d\u001b[0m\u001b[0;34m.\u001b[0m\u001b[0mvisualization\u001b[0m\u001b[0;34m.\u001b[0m\u001b[0mrendering\u001b[0m\u001b[0;34m.\u001b[0m\u001b[0mMaterialRecord\u001b[0m\u001b[0;34m(\u001b[0m\u001b[0;34m)\u001b[0m\u001b[0;34m\u001b[0m\u001b[0;34m\u001b[0m\u001b[0m\n",
      "\u001b[0;31mAttributeError\u001b[0m: 'open3d.cpu.pybind.visualization.VisualizerWithKeyC' object has no attribute 'gui'"
     ]
    }
   ],
   "source": [
    "#!/usr/bin/env python\n",
    "import open3d as o3d\n",
    "import open3d.visualization as o3dvis\n",
    "import numpy as np\n",
    "\n",
    "def make_box():\n",
    "    box = o3d.geometry.TriangleMesh.create_box(1, 2, 4)\n",
    "    box.compute_vertex_normals()\n",
    "    return box\n",
    "\n",
    "def main():\n",
    "    o3dvis.gui.Application.instance.initialize()\n",
    "\n",
    "    mat = o3d.visualization.rendering.MaterialRecord()\n",
    "    mat.base_color = (1.0, 0.0, 0.0, 1.0)\n",
    "    mat.shader = \"defaultLit\"\n",
    "\n",
    "    w = o3dvis.gui.Application.instance.create_window(\"Two scenes\", 1025, 512)\n",
    "    scene1 = o3dvis.gui.SceneWidget()\n",
    "    scene1.scene = o3d.visualization.rendering.Open3DScene(w.renderer)\n",
    "    scene1.scene.add_geometry(\"cube1\", make_box(), mat)\n",
    "    scene1.setup_camera(60, scene1.scene.bounding_box, (0, 0, 0))\n",
    "    scene2 = o3dvis.gui.SceneWidget()\n",
    "    scene2.scene = o3d.visualization.rendering.Open3DScene(w.renderer)\n",
    "    mat.base_color = (0.0, 0.0, 1.0, 1.0)\n",
    "    scene2.scene.add_geometry(\"cube1\", make_box(), mat)\n",
    "    scene2.setup_camera(60, scene2.scene.bounding_box, (0, 0, 0))\n",
    "\n",
    "    w.add_child(scene1)\n",
    "    w.add_child(scene2)\n",
    "\n",
    "    def on_layout(theme):\n",
    "        r = w.content_rect\n",
    "        scene1.frame = o3dvis.gui.Rect(r.x, r.y, r.width / 2, r.height)\n",
    "        scene2.frame = o3dvis.gui.Rect(r.x + r.width / 2 + 1, r.y, r.width / 2, r.height)\n",
    "\n",
    "    w.set_on_layout(on_layout)\n",
    "\n",
    "    o3dvis.gui.Application.instance.run()\n",
    "\n",
    "if __name__ == \"__main__\":\n",
    "    main()"
   ]
  },
  {
   "cell_type": "markdown",
   "metadata": {},
   "source": [
    "## 2 separate VisualizersWithKeyCallback\n",
    "\n",
    "Only one visualizer is \"active\" at once"
   ]
  },
  {
   "cell_type": "code",
   "execution_count": 1,
   "metadata": {},
   "outputs": [
    {
     "name": "stdout",
     "output_type": "stream",
     "text": [
      "\u001b[1;33m[Open3D WARNING] GLFW Error: Cocoa: Failed to find service port for display\u001b[0;m\n"
     ]
    },
    {
     "ename": "KeyboardInterrupt",
     "evalue": "",
     "output_type": "error",
     "traceback": [
      "\u001b[0;31m---------------------------------------------------------------------------\u001b[0m",
      "\u001b[0;31mKeyboardInterrupt\u001b[0m                         Traceback (most recent call last)",
      "\u001b[0;32m/var/folders/__/sxrs_frj41bdj4fb9smfcr9m0000gn/T/ipykernel_5020/332799584.py\u001b[0m in \u001b[0;36m<module>\u001b[0;34m\u001b[0m\n\u001b[1;32m     50\u001b[0m \u001b[0;34m\u001b[0m\u001b[0m\n\u001b[1;32m     51\u001b[0m \u001b[0;32mif\u001b[0m \u001b[0m__name__\u001b[0m \u001b[0;34m==\u001b[0m \u001b[0;34m\"__main__\"\u001b[0m\u001b[0;34m:\u001b[0m\u001b[0;34m\u001b[0m\u001b[0;34m\u001b[0m\u001b[0m\n\u001b[0;32m---> 52\u001b[0;31m     \u001b[0mmain\u001b[0m\u001b[0;34m(\u001b[0m\u001b[0;34m)\u001b[0m\u001b[0;34m\u001b[0m\u001b[0;34m\u001b[0m\u001b[0m\n\u001b[0m",
      "\u001b[0;32m/var/folders/__/sxrs_frj41bdj4fb9smfcr9m0000gn/T/ipykernel_5020/332799584.py\u001b[0m in \u001b[0;36mmain\u001b[0;34m()\u001b[0m\n\u001b[1;32m     44\u001b[0m     \u001b[0;31m# Start the visualization in a loop\u001b[0m\u001b[0;34m\u001b[0m\u001b[0;34m\u001b[0m\u001b[0m\n\u001b[1;32m     45\u001b[0m     \u001b[0;32mwhile\u001b[0m \u001b[0;32mTrue\u001b[0m\u001b[0;34m:\u001b[0m\u001b[0;34m\u001b[0m\u001b[0;34m\u001b[0m\u001b[0m\n\u001b[0;32m---> 46\u001b[0;31m         \u001b[0mvis1\u001b[0m\u001b[0;34m.\u001b[0m\u001b[0mpoll_events\u001b[0m\u001b[0;34m(\u001b[0m\u001b[0;34m)\u001b[0m\u001b[0;34m\u001b[0m\u001b[0;34m\u001b[0m\u001b[0m\n\u001b[0m\u001b[1;32m     47\u001b[0m         \u001b[0mvis1\u001b[0m\u001b[0;34m.\u001b[0m\u001b[0mupdate_renderer\u001b[0m\u001b[0;34m(\u001b[0m\u001b[0;34m)\u001b[0m\u001b[0;34m\u001b[0m\u001b[0;34m\u001b[0m\u001b[0m\n\u001b[1;32m     48\u001b[0m         \u001b[0mvis2\u001b[0m\u001b[0;34m.\u001b[0m\u001b[0mpoll_events\u001b[0m\u001b[0;34m(\u001b[0m\u001b[0;34m)\u001b[0m\u001b[0;34m\u001b[0m\u001b[0;34m\u001b[0m\u001b[0m\n",
      "\u001b[0;31mKeyboardInterrupt\u001b[0m: "
     ]
    }
   ],
   "source": [
    "import open3d as o3d\n",
    "\n",
    "def make_box(color):\n",
    "    box = o3d.geometry.TriangleMesh.create_box(width=1, height=2, depth=4)\n",
    "    box.paint_uniform_color(color)  # Set color to differentiate the two boxes\n",
    "    return box\n",
    "\n",
    "def synchronize_views(source_vis, target_vis):\n",
    "    # Retrieve the view control parameters from the source visualizer\n",
    "    source_view = source_vis.get_view_status()\n",
    "    \n",
    "    # Apply the view control parameters to the target visualizer\n",
    "    target_vis.set_view_status(source_view)\n",
    "    target_vis.update_renderer()\n",
    "\n",
    "def main():\n",
    "    # Create two visualizers\n",
    "    vis1 = o3d.visualization.VisualizerWithKeyCallback()\n",
    "    vis2 = o3d.visualization.VisualizerWithKeyCallback()\n",
    "\n",
    "    vis1.create_window(window_name='Visualizer 1', width=800, height=600)\n",
    "    vis2.create_window(window_name='Visualizer 2', width=800, height=600)\n",
    "\n",
    "    # Create two point clouds and add them to the respective visualizers\n",
    "    box1 = make_box([1, 0, 0])  # Red box\n",
    "    box2 = make_box([0, 0, 1])  # Blue box\n",
    "    \n",
    "    vis1.add_geometry(box1)\n",
    "    vis2.add_geometry(box2)\n",
    "\n",
    "   # Define a key callback to synchronize view from vis1 to vis2\n",
    "    def key_callback(vis):\n",
    "        if vis.get_window_name == 'Visualizer 1':\n",
    "            synchronize_views(vis1, vis2)\n",
    "        else:\n",
    "            synchronize_views(vis2, vis1)\n",
    "        return False\n",
    "\n",
    "    # Register the key callback with 'vis1' and 'vis2' for the 'S' key\n",
    "    vis1.register_key_callback(ord('S'), key_callback)\n",
    "    vis2.register_key_callback(ord('S'), key_callback)\n",
    "\n",
    "\n",
    "    # Start the visualization in a loop\n",
    "    while True:\n",
    "        vis1.poll_events()\n",
    "        vis1.update_renderer()\n",
    "        vis2.poll_events()\n",
    "        vis2.update_renderer()\n",
    "\n",
    "if __name__ == \"__main__\":\n",
    "    main()\n"
   ]
  },
  {
   "cell_type": "markdown",
   "metadata": {},
   "source": [
    "## Questions:\n",
    "\n",
    "1. What is the typical data structure used for 3D objects? Tensor, Hashmap?\n",
    "* 2-D Numpy arrays N x [x, y, z, RGB]\n",
    "\n",
    "2. What is a voxel (point cloud)?\n",
    "* In 2D: voxel is a grid of n x m boxes. In 3D: it is a grid of n x m x k boxes -> reduce sparsity in underlying data, typically works better.\n",
    "\n",
    "3. How to prevent kernel from timing out/ crashing when I close the viewer window?\n",
    "* It is normal.\n",
    "\n",
    "4. Difference between Camera and Visualizer objects?\n"
   ]
  },
  {
   "cell_type": "markdown",
   "metadata": {},
   "source": []
  }
 ],
 "metadata": {
  "kernelspec": {
   "display_name": "PyCharm (grab codility)",
   "language": "python",
   "name": "pycharm-9f37f941"
  },
  "language_info": {
   "codemirror_mode": {
    "name": "ipython",
    "version": 3
   },
   "file_extension": ".py",
   "mimetype": "text/x-python",
   "name": "python",
   "nbconvert_exporter": "python",
   "pygments_lexer": "ipython3",
   "version": "3.9.7"
  }
 },
 "nbformat": 4,
 "nbformat_minor": 2
}
